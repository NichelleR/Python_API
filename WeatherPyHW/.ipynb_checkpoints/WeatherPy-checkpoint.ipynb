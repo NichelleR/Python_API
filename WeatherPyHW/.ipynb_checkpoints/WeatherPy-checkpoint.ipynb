{
 "cells": [
  {
   "cell_type": "markdown",
   "metadata": {},
   "source": [
    "# WeatherPy\n",
    "----\n",
    "\n",
    "### Analysis\n",
    "* As expected, the weather becomes significantly warmer as one approaches the equator (0 Deg. Latitude). More interestingly, however, is the fact that the southern hemisphere tends to be warmer this time of year than the northern hemisphere. This may be due to the tilt of the earth.\n",
    "* There is no strong relationship between latitude and cloudiness. However, it is interesting to see that a strong band of cities sits at 0, 80, and 100% cloudiness.\n",
    "* There is no strong relationship between latitude and wind speed. However, in northern hemispheres there is a flurry of cities with over 20 mph of wind.\n",
    "\n",
    "---\n",
    "\n",
    "#### Note\n",
    "* Instructions have been included for each segment. You do not have to follow them exactly, but they are included to help you think through the steps."
   ]
  },
  {
   "cell_type": "code",
   "execution_count": 1,
   "metadata": {
    "scrolled": true
   },
   "outputs": [],
   "source": [
    "# Dependencies and Setup\n",
    "import matplotlib.pyplot as plt\n",
    "import pandas as pd\n",
    "import numpy as np\n",
    "import requests\n",
    "import time\n",
    "from pprint import pprint\n",
    "\n",
    "# Import API key\n",
    "from api_keys import api_key\n",
    "\n",
    "# Incorporated citipy to determine city based on latitude and longitude\n",
    "from citipy import citipy\n",
    "\n",
    "# Output File (CSV)\n",
    "output_data_file = \"output_data/cities.csv\"\n",
    "\n",
    "# Range of latitudes and longitudes\n",
    "lat_range = (-90, 90)\n",
    "lng_range = (-180, 180)"
   ]
  },
  {
   "cell_type": "markdown",
   "metadata": {},
   "source": [
    "## Generate Cities List"
   ]
  },
  {
   "cell_type": "code",
   "execution_count": 2,
   "metadata": {},
   "outputs": [
    {
     "name": "stdout",
     "output_type": "stream",
     "text": [
      "the valley\n"
     ]
    }
   ],
   "source": [
    "# List for holding lat_lngs and cities\n",
    "lat_lngs = []\n",
    "cities = []\n",
    "\n",
    "# Create a set of random lat and lng combinations\n",
    "lats = np.random.uniform(low=-90.000, high=90.000, size=1500)\n",
    "lngs = np.random.uniform(low=-180.000, high=180.000, size=1500)\n",
    "lat_lngs = zip(lats, lngs)\n",
    "\n",
    "# Identify nearest city for each lat, lng combination\n",
    "for lat_lng in lat_lngs:\n",
    "    city = citipy.nearest_city(lat_lng[0], lat_lng[1]).city_name\n",
    "    \n",
    "    # If the city is unique, then add it to a our cities list\n",
    "    if city not in cities:\n",
    "        cities.append(city)\n",
    "\n",
    "# Print the city count to confirm sufficient count\n",
    "total = len(cities) - 1\n",
    "print(cities[0])"
   ]
  },
  {
   "cell_type": "markdown",
   "metadata": {},
   "source": [
    "### Perform API Calls\n",
    "* Perform a weather check on each city using a series of successive API calls.\n",
    "* Include a print log of each city as it'sbeing processed (with the city number and city name).\n"
   ]
  },
  {
   "cell_type": "code",
   "execution_count": 14,
   "metadata": {},
   "outputs": [
    {
     "name": "stdout",
     "output_type": "stream",
     "text": [
      "Beginning Data Retrieval\n",
      "-----------------------------\n",
      "Information for the valley could not be found.\n",
      "Information for bredasdorp could not be found.\n",
      "Information for rikitea could not be found.\n",
      "Information for tessalit could not be found.\n",
      "Information for khatanga could not be found.\n",
      "Information for mataura could not be found.\n",
      "Information for vaini could not be found.\n",
      "Information for busselton could not be found.\n",
      "Information for belushya guba could not be found.\n",
      "Information for hermanus could not be found.\n",
      "-----------------------------\n",
      "Data Retrieval Complete\n",
      "-----------------------------\n"
     ]
    }
   ],
   "source": [
    "weather_df = pd.DataFrame(columns = [\"City\",\"Cloudiness\", \"Country\", \"Date\", \"Humidity\", \"Lat\", \"Lng\", \"Max Temp\", \"Wind Speed\"])\n",
    "\n",
    "\n",
    "url = \"http://api.openweathermap.org/data/2.5/weather?\"\n",
    "units = \"metric\"\n",
    "\n",
    "query_url = f\"{url}appid={api_key}&q={city}&units={units}\"\n",
    "\n",
    "print(\"Beginning Data Retrieval\\n-----------------------------\")\n",
    "\n",
    "idx = 0    \n",
    "\n",
    "for idx, city in enumerate(cities[:10]):\n",
    "    idx = idx + 1\n",
    "    try:\n",
    "            if city_name not in cities_df.city_name.values:\n",
    "\n",
    "        weather_response = requests.get(query_url)\n",
    "        weather_json = weather_response.json()\n",
    "        weather_df.set_value(idx, 'City', weather_json['name'])\n",
    "        weather_df.set_value(idx, 'Cloudiness', weather_json[\"clouds\"]['all'])\n",
    "        weather_df.set_value(idx, 'Country', weather_json[\"sys\"][\"country\"])\n",
    "        weather_df.set_value(idx, 'Date', weather_json['dt']) \n",
    "        weather_df.set_value(idx, 'Humidity', weather_json['main']['humidity'])\n",
    "        weather_df.set_value(idx, 'Lat', weather_json['coord']['lat'])\n",
    "        weather_df.set_value(idx, 'Lng', weather_json['coord']['lon'])\n",
    "        weather_df.set_value(idx, 'Max Temp', weather_json['main']['temp_max'])\n",
    "        weather_df.set_value(idx, 'Wind Speed', weather_json['wind']['speed'])\n",
    "        print(f\"Processing Record {idx} of {total} | {city}\")\n",
    "        time.sleep(1.1)\n",
    "    except:\n",
    "        print(f\"Information for {city} could not be found.\")\n",
    "\n",
    "print(\"-----------------------------\\nData Retrieval Complete\\n-----------------------------\")    \n",
    "    "
   ]
  },
  {
   "cell_type": "markdown",
   "metadata": {},
   "source": [
    "### Convert Raw Data to DataFrame\n",
    "* Export the city data into a .csv.\n",
    "* Display the DataFrame"
   ]
  },
  {
   "cell_type": "code",
   "execution_count": 8,
   "metadata": {},
   "outputs": [
    {
     "data": {
      "text/html": [
       "<div>\n",
       "<style scoped>\n",
       "    .dataframe tbody tr th:only-of-type {\n",
       "        vertical-align: middle;\n",
       "    }\n",
       "\n",
       "    .dataframe tbody tr th {\n",
       "        vertical-align: top;\n",
       "    }\n",
       "\n",
       "    .dataframe thead th {\n",
       "        text-align: right;\n",
       "    }\n",
       "</style>\n",
       "<table border=\"1\" class=\"dataframe\">\n",
       "  <thead>\n",
       "    <tr style=\"text-align: right;\">\n",
       "      <th></th>\n",
       "      <th>City</th>\n",
       "      <th>Cloudiness</th>\n",
       "      <th>Country</th>\n",
       "      <th>Date</th>\n",
       "      <th>Humidity</th>\n",
       "      <th>Lat</th>\n",
       "      <th>Lng</th>\n",
       "      <th>Max Temp</th>\n",
       "      <th>Wind Speed</th>\n",
       "    </tr>\n",
       "  </thead>\n",
       "  <tbody>\n",
       "    <tr>\n",
       "      <th>1</th>\n",
       "      <td>Hermanus</td>\n",
       "      <td>68</td>\n",
       "      <td>ZA</td>\n",
       "      <td>1544303303</td>\n",
       "      <td>93</td>\n",
       "      <td>-34.42</td>\n",
       "      <td>19.24</td>\n",
       "      <td>13.33</td>\n",
       "      <td>1.51</td>\n",
       "    </tr>\n",
       "    <tr>\n",
       "      <th>2</th>\n",
       "      <td>Hermanus</td>\n",
       "      <td>68</td>\n",
       "      <td>ZA</td>\n",
       "      <td>1544303303</td>\n",
       "      <td>93</td>\n",
       "      <td>-34.42</td>\n",
       "      <td>19.24</td>\n",
       "      <td>13.33</td>\n",
       "      <td>1.51</td>\n",
       "    </tr>\n",
       "    <tr>\n",
       "      <th>3</th>\n",
       "      <td>Hermanus</td>\n",
       "      <td>68</td>\n",
       "      <td>ZA</td>\n",
       "      <td>1544303303</td>\n",
       "      <td>93</td>\n",
       "      <td>-34.42</td>\n",
       "      <td>19.24</td>\n",
       "      <td>13.33</td>\n",
       "      <td>1.51</td>\n",
       "    </tr>\n",
       "    <tr>\n",
       "      <th>4</th>\n",
       "      <td>Hermanus</td>\n",
       "      <td>68</td>\n",
       "      <td>ZA</td>\n",
       "      <td>1544303303</td>\n",
       "      <td>93</td>\n",
       "      <td>-34.42</td>\n",
       "      <td>19.24</td>\n",
       "      <td>13.33</td>\n",
       "      <td>1.51</td>\n",
       "    </tr>\n",
       "    <tr>\n",
       "      <th>5</th>\n",
       "      <td>Hermanus</td>\n",
       "      <td>68</td>\n",
       "      <td>ZA</td>\n",
       "      <td>1544303303</td>\n",
       "      <td>93</td>\n",
       "      <td>-34.42</td>\n",
       "      <td>19.24</td>\n",
       "      <td>13.33</td>\n",
       "      <td>1.51</td>\n",
       "    </tr>\n",
       "    <tr>\n",
       "      <th>6</th>\n",
       "      <td>Hermanus</td>\n",
       "      <td>68</td>\n",
       "      <td>ZA</td>\n",
       "      <td>1544303303</td>\n",
       "      <td>93</td>\n",
       "      <td>-34.42</td>\n",
       "      <td>19.24</td>\n",
       "      <td>13.33</td>\n",
       "      <td>1.51</td>\n",
       "    </tr>\n",
       "    <tr>\n",
       "      <th>7</th>\n",
       "      <td>Hermanus</td>\n",
       "      <td>68</td>\n",
       "      <td>ZA</td>\n",
       "      <td>1544303303</td>\n",
       "      <td>93</td>\n",
       "      <td>-34.42</td>\n",
       "      <td>19.24</td>\n",
       "      <td>13.33</td>\n",
       "      <td>1.51</td>\n",
       "    </tr>\n",
       "    <tr>\n",
       "      <th>8</th>\n",
       "      <td>Hermanus</td>\n",
       "      <td>68</td>\n",
       "      <td>ZA</td>\n",
       "      <td>1544303303</td>\n",
       "      <td>93</td>\n",
       "      <td>-34.42</td>\n",
       "      <td>19.24</td>\n",
       "      <td>13.33</td>\n",
       "      <td>1.51</td>\n",
       "    </tr>\n",
       "    <tr>\n",
       "      <th>9</th>\n",
       "      <td>Hermanus</td>\n",
       "      <td>68</td>\n",
       "      <td>ZA</td>\n",
       "      <td>1544303303</td>\n",
       "      <td>93</td>\n",
       "      <td>-34.42</td>\n",
       "      <td>19.24</td>\n",
       "      <td>13.33</td>\n",
       "      <td>1.51</td>\n",
       "    </tr>\n",
       "    <tr>\n",
       "      <th>10</th>\n",
       "      <td>Hermanus</td>\n",
       "      <td>68</td>\n",
       "      <td>ZA</td>\n",
       "      <td>1544303303</td>\n",
       "      <td>93</td>\n",
       "      <td>-34.42</td>\n",
       "      <td>19.24</td>\n",
       "      <td>13.33</td>\n",
       "      <td>1.51</td>\n",
       "    </tr>\n",
       "  </tbody>\n",
       "</table>\n",
       "</div>"
      ],
      "text/plain": [
       "        City Cloudiness Country        Date Humidity    Lat    Lng Max Temp  \\\n",
       "1   Hermanus         68      ZA  1544303303       93 -34.42  19.24    13.33   \n",
       "2   Hermanus         68      ZA  1544303303       93 -34.42  19.24    13.33   \n",
       "3   Hermanus         68      ZA  1544303303       93 -34.42  19.24    13.33   \n",
       "4   Hermanus         68      ZA  1544303303       93 -34.42  19.24    13.33   \n",
       "5   Hermanus         68      ZA  1544303303       93 -34.42  19.24    13.33   \n",
       "6   Hermanus         68      ZA  1544303303       93 -34.42  19.24    13.33   \n",
       "7   Hermanus         68      ZA  1544303303       93 -34.42  19.24    13.33   \n",
       "8   Hermanus         68      ZA  1544303303       93 -34.42  19.24    13.33   \n",
       "9   Hermanus         68      ZA  1544303303       93 -34.42  19.24    13.33   \n",
       "10  Hermanus         68      ZA  1544303303       93 -34.42  19.24    13.33   \n",
       "\n",
       "   Wind Speed  \n",
       "1        1.51  \n",
       "2        1.51  \n",
       "3        1.51  \n",
       "4        1.51  \n",
       "5        1.51  \n",
       "6        1.51  \n",
       "7        1.51  \n",
       "8        1.51  \n",
       "9        1.51  \n",
       "10       1.51  "
      ]
     },
     "execution_count": 8,
     "metadata": {},
     "output_type": "execute_result"
    }
   ],
   "source": [
    "weather_df"
   ]
  },
  {
   "cell_type": "code",
   "execution_count": null,
   "metadata": {},
   "outputs": [],
   "source": [
    "cities"
   ]
  },
  {
   "cell_type": "markdown",
   "metadata": {},
   "source": [
    "### Plotting the Data\n",
    "* Use proper labeling of the plots using plot titles (including date of analysis) and axes labels.\n",
    "* Save the plotted figures as .pngs."
   ]
  },
  {
   "cell_type": "markdown",
   "metadata": {},
   "source": [
    "#### Latitude vs. Temperature Plot"
   ]
  },
  {
   "cell_type": "code",
   "execution_count": null,
   "metadata": {},
   "outputs": [],
   "source": [
    "weather_df.plot(kind = \"scatter\", x = 'Lat', y = 'Lng', subplots = True, c = \"CornFlowerBlue\", alpha = 0.5, edgecolors = \"black\", linewidth = 1.25)\n"
   ]
  },
  {
   "cell_type": "markdown",
   "metadata": {},
   "source": [
    "#### Latitude vs. Humidity Plot"
   ]
  },
  {
   "cell_type": "code",
   "execution_count": null,
   "metadata": {},
   "outputs": [],
   "source": []
  },
  {
   "cell_type": "markdown",
   "metadata": {},
   "source": [
    "#### Latitude vs. Cloudiness Plot"
   ]
  },
  {
   "cell_type": "code",
   "execution_count": null,
   "metadata": {},
   "outputs": [],
   "source": []
  },
  {
   "cell_type": "markdown",
   "metadata": {},
   "source": [
    "#### Latitude vs. Wind Speed Plot"
   ]
  },
  {
   "cell_type": "code",
   "execution_count": null,
   "metadata": {},
   "outputs": [],
   "source": []
  },
  {
   "cell_type": "code",
   "execution_count": null,
   "metadata": {},
   "outputs": [],
   "source": []
  }
 ],
 "metadata": {
  "anaconda-cloud": {},
  "kernelspec": {
   "display_name": "Python 3",
   "language": "python",
   "name": "python3"
  },
  "language_info": {
   "codemirror_mode": {
    "name": "ipython",
    "version": 3
   },
   "file_extension": ".py",
   "mimetype": "text/x-python",
   "name": "python",
   "nbconvert_exporter": "python",
   "pygments_lexer": "ipython3",
   "version": "3.6.5"
  }
 },
 "nbformat": 4,
 "nbformat_minor": 2
}
